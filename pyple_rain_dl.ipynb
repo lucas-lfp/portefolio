{
 "cells": [
  {
   "cell_type": "markdown",
   "id": "39595481",
   "metadata": {},
   "source": [
    "##  <font color = \"navy\">WEATHER FORECAST IN AUSTRALIA: Modélisation deep learning</font>\n",
    "Notebook <b>3/3</b>\n",
    "***\n",
    "\n",
    "<font color = \"purple\"><b>Objectif: Réaliser un modèle de deep learning capable de détecter les jours de pluie à J+1 avec une précision satisfaisante.</b></font>\n",
    "\n",
    "<b> Résumé du notebook : </b>\n",
    "- Data cleaning, preprocessing des données (notamment encodage, et rééquilibrage) ;\n",
    "- Modélisation deep learning ;\n",
    "- Essai d'amélioration des performances du modèle."
   ]
  },
  {
   "cell_type": "code",
   "execution_count": 1,
   "id": "fa18c0ac",
   "metadata": {},
   "outputs": [],
   "source": [
    "import pandas as pd\n",
    "import numpy as np\n",
    "import matplotlib.pyplot as plt\n",
    "import seaborn as sns\n",
    "import matplotlib.patches as mpatches\n",
    "import warnings\n",
    "from sklearn.preprocessing import LabelEncoder\n",
    "from IPython.display import Markdown, display\n",
    "warnings.filterwarnings('ignore')\n",
    "sns.set_theme({'legend.frameon':True})\n",
    "from tensorflow.keras.layers import Input, Dense \n",
    "from tensorflow.keras.models import Model\n",
    "import itertools \n",
    "from sklearn import metrics\n",
    "from sklearn.model_selection import train_test_split, cross_val_score\n",
    "from sklearn import ensemble\n",
    "from sklearn.preprocessing import StandardScaler\n",
    "from sklearn.metrics import classification_report, confusion_matrix\n",
    "\n",
    "#pip install --upgrade tensorflow\n",
    "#pip install pydot\n",
    "#pip install graphviz"
   ]
  },
  {
   "cell_type": "code",
   "execution_count": 2,
   "id": "9c250722",
   "metadata": {},
   "outputs": [],
   "source": [
    "#Import d'une version prête à l'emploi (preprocessing: Cf notebook 2/4)\n",
    "data = pd.read_csv(\"weatherAUS_DL.csv\")\n",
    "\n",
    "#Création d'un df de secours pour avoir une trace des données brutes.\n",
    "\n",
    "df_saved = pd.read_csv(\"weatherAUS_DL.csv\")\n",
    "\n",
    "pd.set_option(\"display.max_columns\", None)\n",
    "\n",
    "feats = data.drop([\"RainTomorrow\", \"Date\", \"Year\", \"Month\", \"Day\", \"State\", \"Location\"], axis = 1)\n",
    "target = data[\"RainTomorrow\"]\n",
    "encoder = LabelEncoder()\n",
    "\n",
    "Y = encoder.fit_transform(target)\n",
    "\n",
    "X_train, X_test, y_train, y_test = train_test_split(feats, Y, test_size = 0.2, random_state = 55) \n",
    "\n",
    "scaler = StandardScaler()\n",
    "scaler.fit(X_train)\n",
    "X_train_scaled = scaler.transform(X_train)\n",
    "X_test_scaled = scaler.transform(X_test)"
   ]
  },
  {
   "cell_type": "code",
   "execution_count": 3,
   "id": "8ceac83b",
   "metadata": {
    "scrolled": false
   },
   "outputs": [
    {
     "data": {
      "text/markdown": [
       "<h2><u><center>Réalisation d'un premier modèle de deep learning</center></u></h2>\n",
       "<h4><u>Entrainement du modèle :</u></h4>"
      ],
      "text/plain": [
       "<IPython.core.display.Markdown object>"
      ]
     },
     "metadata": {},
     "output_type": "display_data"
    },
    {
     "name": "stdout",
     "output_type": "stream",
     "text": [
      "Epoch 1/6\n",
      "3229/3229 [==============================] - 3s 951us/step - loss: 0.3541 - accuracy: 0.8466 - val_loss: 0.3393 - val_accuracy: 0.8547\n",
      "Epoch 2/6\n",
      "3229/3229 [==============================] - 3s 909us/step - loss: 0.3446 - accuracy: 0.8506 - val_loss: 0.3365 - val_accuracy: 0.8546\n",
      "Epoch 3/6\n",
      "3229/3229 [==============================] - 3s 908us/step - loss: 0.3415 - accuracy: 0.8517 - val_loss: 0.3373 - val_accuracy: 0.8553\n",
      "Epoch 4/6\n",
      "3229/3229 [==============================] - 3s 900us/step - loss: 0.3397 - accuracy: 0.8530 - val_loss: 0.3353 - val_accuracy: 0.8551\n",
      "Epoch 5/6\n",
      "3229/3229 [==============================] - 3s 994us/step - loss: 0.3384 - accuracy: 0.8525 - val_loss: 0.3329 - val_accuracy: 0.8558\n",
      "Epoch 6/6\n",
      "3229/3229 [==============================] - 3s 1ms/step - loss: 0.3371 - accuracy: 0.8529 - val_loss: 0.3326 - val_accuracy: 0.8568\n",
      "808/808 [==============================] - 1s 667us/step - loss: 0.3326 - accuracy: 0.8568\n",
      "[0.33264657855033875, 0.856772243976593]\n"
     ]
    },
    {
     "data": {
      "text/markdown": [
       "<h4><u>Récapitulatif du modèle :</u></h4>\n",
       "Ce premier modèle avait 2 couches denses :\n",
       "<ul><li>la première avec <b>25 neurones</b> et une fonction d'activation <b>relu</b> ;</li>\n",
       "<li> la seconde avec <b>50 neurones</b> et une fonction d'activation <b>relu</b> ;</li>\n",
       "<li> la couche de sortie comportait <b>2 neurones</b> et une fonction d'activation <b>softmax</b> ;</li>\n",
       "<li> apprentissage sur <b>6 epochs</b> par batch de <b>32</b>.</li></ul>\n"
      ],
      "text/plain": [
       "<IPython.core.display.Markdown object>"
      ]
     },
     "metadata": {},
     "output_type": "display_data"
    },
    {
     "name": "stdout",
     "output_type": "stream",
     "text": [
      "Model: \"model\"\n",
      "_________________________________________________________________\n",
      " Layer (type)                Output Shape              Param #   \n",
      "=================================================================\n",
      " Input (InputLayer)          [(None, 22)]              0         \n",
      "                                                                 \n",
      " Dense_1 (Dense)             (None, 25)                575       \n",
      "                                                                 \n",
      " Dense_2 (Dense)             (None, 50)                1300      \n",
      "                                                                 \n",
      " Dense_3 (Dense)             (None, 2)                 102       \n",
      "                                                                 \n",
      "=================================================================\n",
      "Total params: 1,977\n",
      "Trainable params: 1,977\n",
      "Non-trainable params: 0\n",
      "_________________________________________________________________\n"
     ]
    },
    {
     "data": {
      "text/markdown": [
       "<h4><u>Résultats du modèle :</u></h4>\n",
       "<ul><li>Prédiction des <b>jours de pluie</b> avec une précision de <b>73.86 %</b> (<i>recall = <b>52.1 %</b></i>) ;</li>\n",
       "<li> Prédiction des <b>jours sans pluie</b> avec une précision de <b>87.8 %</b> (<i>recall = <b>94.92 %</b></i>) ;</li>\n",
       "<li>La précision globale du modèle est de <b>85.68 %</b>.</li></ul>\n"
      ],
      "text/plain": [
       "<IPython.core.display.Markdown object>"
      ]
     },
     "metadata": {},
     "output_type": "display_data"
    },
    {
     "data": {
      "text/markdown": [
       "Les paramètres de ce premier modèle ont été fixés de façon plus ou moins arbritraire. Les \n",
       "performances de ce modèle sont globalement satisfaisantes, voire très satisfaisantes pour la détection des jours sans pluie.\n",
       "Il serait toutefois intéressant d'améliorer la prédiction de jours de pluie."
      ],
      "text/plain": [
       "<IPython.core.display.Markdown object>"
      ]
     },
     "metadata": {},
     "output_type": "display_data"
    },
    {
     "data": {
      "text/markdown": [
       "<i><h5>Rapport de classification :</h5></i>"
      ],
      "text/plain": [
       "<IPython.core.display.Markdown object>"
      ]
     },
     "metadata": {},
     "output_type": "display_data"
    },
    {
     "name": "stdout",
     "output_type": "stream",
     "text": [
      "              precision    recall  f1-score   support\n",
      "\n",
      "           0       0.88      0.95      0.91     20250\n",
      "           1       0.74      0.52      0.61      5576\n",
      "\n",
      "    accuracy                           0.86     25826\n",
      "   macro avg       0.81      0.74      0.76     25826\n",
      "weighted avg       0.85      0.86      0.85     25826\n",
      "\n"
     ]
    },
    {
     "data": {
      "text/markdown": [
       "<i><h5>Matrice de confusion :</h5></i>"
      ],
      "text/plain": [
       "<IPython.core.display.Markdown object>"
      ]
     },
     "metadata": {},
     "output_type": "display_data"
    },
    {
     "name": "stdout",
     "output_type": "stream",
     "text": [
      "Classe prédite      0     1\n",
      "Classe réelle              \n",
      "0               19222  1028\n",
      "1                2671  2905\n"
     ]
    }
   ],
   "source": [
    "display(Markdown(\"\"\"<h2><u><center>Réalisation d'un premier modèle de deep learning</center></u></h2>\n",
    "<h4><u>Entrainement du modèle :</u></h4>\"\"\"))\n",
    "EPOCHS = 6\n",
    "BATCHS = 32\n",
    "\n",
    "UNITS1 = 25\n",
    "UNITS2 = 50\n",
    "UNITS3 = None\n",
    "UNITS4 = None\n",
    "UNITS5 = None\n",
    "UNITSOUT = 2\n",
    "\n",
    "ACTIV1 = \"relu\"\n",
    "ACTIV2 = \"relu\"\n",
    "ACTIV3 = None\n",
    "ACTIV4 = None\n",
    "ACTIV5 = None\n",
    "\n",
    "inputs = Input(shape = X_train_scaled.shape[1], name = \"Input\")\n",
    "dense1 = Dense(units = UNITS1, activation = ACTIV1, kernel_initializer = \"normal\", name = \"Dense_1\")\n",
    "dense2 = Dense(units = UNITS2, activation = ACTIV2, kernel_initializer = \"normal\", name = \"Dense_2\")\n",
    "dense3 = Dense(units = UNITSOUT, activation = \"softmax\", name = \"Dense_3\")\n",
    "\n",
    "x = dense1(inputs)\n",
    "x = dense2(x)\n",
    "outputs = dense3(x)\n",
    "\n",
    "model = Model(inputs = inputs, outputs = outputs)\n",
    "model.compile(loss = \"sparse_categorical_crossentropy\", optimizer = \"adam\", metrics = [\"accuracy\"])\n",
    "training_history = model.fit(X_train_scaled, y_train, epochs = EPOCHS, batch_size = BATCHS, validation_data=(X_test_scaled,y_test))\n",
    "\n",
    "#calcul du score\n",
    "score = model.evaluate(X_test_scaled, y_test)\n",
    "print(score)\n",
    "\n",
    "#prédiction\n",
    "test_pred = model.predict(X_test_scaled)\n",
    "\n",
    "y_test_class = y_test\n",
    "y_pred_class = np.argmax(test_pred, axis = 1)\n",
    "\n",
    "#Résultats\n",
    "precis = classification_report(y_test_class, y_pred_class,output_dict=True)\n",
    "\n",
    "#Output\n",
    "display(Markdown(\"\"\"<h4><u>Récapitulatif du modèle :</u></h4>\n",
    "Ce premier modèle avait 2 couches denses :\n",
    "<ul><li>la première avec <b>{} neurones</b> et une fonction d'activation <b>{}</b> ;</li>\n",
    "<li> la seconde avec <b>{} neurones</b> et une fonction d'activation <b>{}</b> ;</li>\n",
    "<li> la couche de sortie comportait <b>2 neurones</b> et une fonction d'activation <b>softmax</b> ;</li>\n",
    "<li> apprentissage sur <b>{} epochs</b> par batch de <b>{}</b>.</li></ul>\n",
    "\"\"\".format(UNITS1, ACTIV1, UNITS2, ACTIV2, EPOCHS, BATCHS)))\n",
    "\n",
    "model.summary()\n",
    "\n",
    "display(Markdown(\"\"\"<h4><u>Résultats du modèle :</u></h4>\n",
    "<ul><li>Prédiction des <b>jours de pluie</b> avec une précision de <b>{} %</b> (<i>recall = <b>{} %</b></i>) ;</li>\n",
    "<li> Prédiction des <b>jours sans pluie</b> avec une précision de <b>{} %</b> (<i>recall = <b>{} %</b></i>) ;</li>\n",
    "<li>La précision globale du modèle est de <b>{} %</b>.</li></ul>\n",
    "\"\"\".format(\n",
    "    round(100*precis[\"1\"][\"precision\"],2),\n",
    "    round(100*precis[\"1\"][\"recall\"],2),\n",
    "    round(100*precis[\"0\"][\"precision\"],2),\n",
    "    round(100*precis[\"0\"][\"recall\"],2),\n",
    "    round(100*precis[\"accuracy\"],2)\n",
    ")))\n",
    "\n",
    "display(Markdown(\"\"\"Les paramètres de ce premier modèle ont été fixés de façon plus ou moins arbritraire. Les \n",
    "performances de ce modèle sont globalement satisfaisantes, voire très satisfaisantes pour la détection des jours sans pluie.\n",
    "Il serait toutefois intéressant d'améliorer la prédiction de jours de pluie.\"\"\"))\n",
    "\n",
    "display(Markdown(\"<i><h5>Rapport de classification :</h5></i>\"))\n",
    "print(classification_report(y_test_class, y_pred_class))\n",
    "display(Markdown(\"<i><h5>Matrice de confusion :</h5></i>\"))\n",
    "print(pd.crosstab(y_test_class, y_pred_class, rownames = [\"Classe réelle\"], colnames = [\"Classe prédite\"]))"
   ]
  },
  {
   "cell_type": "code",
   "execution_count": 4,
   "id": "4e76f69b",
   "metadata": {},
   "outputs": [
    {
     "data": {
      "text/markdown": [
       "<h2><center><u>Effet du nombre de neurones</u></center></h2>\n",
       "<h4><u>Entrainement du modèle :</u></h4>"
      ],
      "text/plain": [
       "<IPython.core.display.Markdown object>"
      ]
     },
     "metadata": {},
     "output_type": "display_data"
    },
    {
     "name": "stdout",
     "output_type": "stream",
     "text": [
      "Epoch 1/6\n",
      "3229/3229 [==============================] - 6s 2ms/step - loss: 0.3498 - accuracy: 0.8488 - val_loss: 0.3359 - val_accuracy: 0.8551\n",
      "Epoch 2/6\n",
      "3229/3229 [==============================] - 5s 2ms/step - loss: 0.3407 - accuracy: 0.8521 - val_loss: 0.3339 - val_accuracy: 0.8565\n",
      "Epoch 3/6\n",
      "3229/3229 [==============================] - 5s 2ms/step - loss: 0.3370 - accuracy: 0.8535 - val_loss: 0.3333 - val_accuracy: 0.8562\n",
      "Epoch 4/6\n",
      "3229/3229 [==============================] - 5s 2ms/step - loss: 0.3338 - accuracy: 0.8548 - val_loss: 0.3312 - val_accuracy: 0.8566\n",
      "Epoch 5/6\n",
      "3229/3229 [==============================] - 5s 2ms/step - loss: 0.3318 - accuracy: 0.8556 - val_loss: 0.3303 - val_accuracy: 0.8571\n",
      "Epoch 6/6\n",
      "3229/3229 [==============================] - 5s 2ms/step - loss: 0.3289 - accuracy: 0.8569 - val_loss: 0.3298 - val_accuracy: 0.8581\n",
      "808/808 [==============================] - 1s 866us/step - loss: 0.3298 - accuracy: 0.8581\n"
     ]
    },
    {
     "data": {
      "text/markdown": [
       "<h4><u>Récapitulatif du modèle :</u></h4>\n",
       "Ce modèle avait 2 couches denses :\n",
       "<ul><li>la première avec <b>250 neurones</b> et une fonction d'activation <b>relu</b> ;</li>\n",
       "<li> la seconde avec <b>500 neurones</b> et une fonction d'activation <b>relu</b> ;</li>\n",
       "<li> la couche de sortie comportait <b>2 neurones</b> et une fonction d'activation <b>softmax</b> ;</li>\n",
       "<li> apprentissage sur <b>6 epochs</b> par batch de <b>32</b>.</li></ul>\n"
      ],
      "text/plain": [
       "<IPython.core.display.Markdown object>"
      ]
     },
     "metadata": {},
     "output_type": "display_data"
    },
    {
     "name": "stdout",
     "output_type": "stream",
     "text": [
      "Model: \"model_1\"\n",
      "_________________________________________________________________\n",
      " Layer (type)                Output Shape              Param #   \n",
      "=================================================================\n",
      " Input (InputLayer)          [(None, 22)]              0         \n",
      "                                                                 \n",
      " Dense_1 (Dense)             (None, 250)               5750      \n",
      "                                                                 \n",
      " Dense_2 (Dense)             (None, 500)               125500    \n",
      "                                                                 \n",
      " Dense_3 (Dense)             (None, 2)                 1002      \n",
      "                                                                 \n",
      "=================================================================\n",
      "Total params: 132,252\n",
      "Trainable params: 132,252\n",
      "Non-trainable params: 0\n",
      "_________________________________________________________________\n"
     ]
    },
    {
     "data": {
      "text/markdown": [
       "<h4><u>Résultats du modèle :</u></h4>\n",
       "<ul><li> Prédiction des <b>jours de pluie</b> avec une précision de <b>73.0 %</b> (<i>recall = <b>54.39 %</b></i>) ;</li>\n",
       "<li> Prédiction des <b>jours sans pluie</b> avec une précision de <b>88.27 %</b> (<i>recall = <b>94.46 %</b></i>) ;</li>\n",
       "<li>La précision globale du modèle est de <b>85.81 %</b>.</li></ul>\n"
      ],
      "text/plain": [
       "<IPython.core.display.Markdown object>"
      ]
     },
     "metadata": {},
     "output_type": "display_data"
    },
    {
     "data": {
      "text/markdown": [
       "Le simple ajout de neurones (ici 10 fois plus nombreux dans chaque couche par rapport au modèle initial) \n",
       "ne semble pas modifier les performances."
      ],
      "text/plain": [
       "<IPython.core.display.Markdown object>"
      ]
     },
     "metadata": {},
     "output_type": "display_data"
    },
    {
     "data": {
      "text/markdown": [
       "<i><h5>Rapport de classification :</h5></i>"
      ],
      "text/plain": [
       "<IPython.core.display.Markdown object>"
      ]
     },
     "metadata": {},
     "output_type": "display_data"
    },
    {
     "name": "stdout",
     "output_type": "stream",
     "text": [
      "              precision    recall  f1-score   support\n",
      "\n",
      "           0       0.88      0.94      0.91     20250\n",
      "           1       0.73      0.54      0.62      5576\n",
      "\n",
      "    accuracy                           0.86     25826\n",
      "   macro avg       0.81      0.74      0.77     25826\n",
      "weighted avg       0.85      0.86      0.85     25826\n",
      "\n"
     ]
    },
    {
     "data": {
      "text/markdown": [
       "<i><h5>Matrice de confusion :</h5></i>"
      ],
      "text/plain": [
       "<IPython.core.display.Markdown object>"
      ]
     },
     "metadata": {},
     "output_type": "display_data"
    },
    {
     "name": "stdout",
     "output_type": "stream",
     "text": [
      "Classe prédite      0     1\n",
      "Classe réelle              \n",
      "0               19128  1122\n",
      "1                2543  3033\n"
     ]
    }
   ],
   "source": [
    "display(Markdown(\"\"\"<h2><center><u>Effet du nombre de neurones</u></center></h2>\n",
    "<h4><u>Entrainement du modèle :</u></h4>\"\"\"))\n",
    "\n",
    "EPOCHS = 6\n",
    "BATCHS = 32\n",
    "\n",
    "UNITS1 = 250\n",
    "UNITS2 = 500\n",
    "UNITS3 = None\n",
    "UNITS4 = None\n",
    "UNITS5 = None\n",
    "UNITSOUT = 2\n",
    "\n",
    "ACTIV1 = \"relu\"\n",
    "ACTIV2 = \"relu\"\n",
    "ACTIV3 = None\n",
    "ACTIV4 = None\n",
    "ACTIV5 = None\n",
    "\n",
    "inputs = Input(shape = X_train_scaled.shape[1], name = \"Input\")\n",
    "dense1 = Dense(units = UNITS1, activation = ACTIV1, kernel_initializer = \"normal\", name = \"Dense_1\")\n",
    "dense2 = Dense(units = UNITS2, activation = ACTIV2, kernel_initializer = \"normal\", name = \"Dense_2\")\n",
    "dense3 = Dense(units = UNITSOUT, activation = \"softmax\", name = \"Dense_3\")\n",
    "\n",
    "\n",
    "x = dense1(inputs)\n",
    "x = dense2(x)\n",
    "outputs = dense3(x)\n",
    "\n",
    "model = Model(inputs = inputs, outputs = outputs)\n",
    "model.compile(loss = \"sparse_categorical_crossentropy\", optimizer = \"adam\", metrics = [\"accuracy\"])\n",
    "training_history = model.fit(X_train_scaled, y_train, epochs = EPOCHS, batch_size = BATCHS, validation_data=(X_test_scaled,y_test))\n",
    "\n",
    "#calcul du score\n",
    "score = model.evaluate(X_test_scaled, y_test)\n",
    "\n",
    "#prédiction\n",
    "test_pred = model.predict(X_test_scaled)\n",
    "\n",
    "y_test_class = y_test\n",
    "y_pred_class = np.argmax(test_pred, axis = 1)\n",
    "\n",
    "#Résultats\n",
    "precis = classification_report(y_test_class, y_pred_class,output_dict=True)\n",
    "\n",
    "#Output\n",
    "display(Markdown(\"\"\"<h4><u>Récapitulatif du modèle :</u></h4>\n",
    "Ce modèle avait 2 couches denses :\n",
    "<ul><li>la première avec <b>{} neurones</b> et une fonction d'activation <b>{}</b> ;</li>\n",
    "<li> la seconde avec <b>{} neurones</b> et une fonction d'activation <b>{}</b> ;</li>\n",
    "<li> la couche de sortie comportait <b>2 neurones</b> et une fonction d'activation <b>softmax</b> ;</li>\n",
    "<li> apprentissage sur <b>{} epochs</b> par batch de <b>{}</b>.</li></ul>\n",
    "\"\"\".format(UNITS1, ACTIV1, UNITS2, ACTIV2, EPOCHS, BATCHS)))\n",
    "\n",
    "model.summary()\n",
    "\n",
    "display(Markdown(\"\"\"<h4><u>Résultats du modèle :</u></h4>\n",
    "<ul><li> Prédiction des <b>jours de pluie</b> avec une précision de <b>{} %</b> (<i>recall = <b>{} %</b></i>) ;</li>\n",
    "<li> Prédiction des <b>jours sans pluie</b> avec une précision de <b>{} %</b> (<i>recall = <b>{} %</b></i>) ;</li>\n",
    "<li>La précision globale du modèle est de <b>{} %</b>.</li></ul>\n",
    "\"\"\".format(\n",
    "    round(100*precis[\"1\"][\"precision\"],2),\n",
    "    round(100*precis[\"1\"][\"recall\"],2),\n",
    "    round(100*precis[\"0\"][\"precision\"],2),\n",
    "    round(100*precis[\"0\"][\"recall\"],2),\n",
    "    round(100*precis[\"accuracy\"],2)\n",
    ")))\n",
    "display(Markdown(\"\"\"Le simple ajout de neurones (ici 10 fois plus nombreux dans chaque couche par rapport au modèle initial) \n",
    "ne semble pas modifier les performances.\"\"\"))\n",
    "\n",
    "display(Markdown(\"<i><h5>Rapport de classification :</h5></i>\"))\n",
    "print(classification_report(y_test_class, y_pred_class))\n",
    "display(Markdown(\"<i><h5>Matrice de confusion :</h5></i>\"))\n",
    "print(pd.crosstab(y_test_class, y_pred_class, rownames = [\"Classe réelle\"], colnames = [\"Classe prédite\"]))"
   ]
  },
  {
   "cell_type": "code",
   "execution_count": 5,
   "id": "fb5dcf74",
   "metadata": {
    "scrolled": false
   },
   "outputs": [
    {
     "data": {
      "text/markdown": [
       "<h2><center><u>Effet du nombre d'épochs</u></center></h2>\n",
       "<h4><u>Entrainement du modèle :</u></h4>"
      ],
      "text/plain": [
       "<IPython.core.display.Markdown object>"
      ]
     },
     "metadata": {},
     "output_type": "display_data"
    },
    {
     "name": "stdout",
     "output_type": "stream",
     "text": [
      "Epoch 1/18\n",
      "3229/3229 [==============================] - 3s 965us/step - loss: 0.3531 - accuracy: 0.8471 - val_loss: 0.3376 - val_accuracy: 0.8560\n",
      "Epoch 2/18\n",
      "3229/3229 [==============================] - 3s 918us/step - loss: 0.3433 - accuracy: 0.8504 - val_loss: 0.3382 - val_accuracy: 0.8536\n",
      "Epoch 3/18\n",
      "3229/3229 [==============================] - 3s 940us/step - loss: 0.3412 - accuracy: 0.8520 - val_loss: 0.3351 - val_accuracy: 0.8556\n",
      "Epoch 4/18\n",
      "3229/3229 [==============================] - 3s 922us/step - loss: 0.3391 - accuracy: 0.8524 - val_loss: 0.3353 - val_accuracy: 0.8558\n",
      "Epoch 5/18\n",
      "3229/3229 [==============================] - 3s 979us/step - loss: 0.3381 - accuracy: 0.8530 - val_loss: 0.3340 - val_accuracy: 0.8554\n",
      "Epoch 6/18\n",
      "3229/3229 [==============================] - 3s 916us/step - loss: 0.3371 - accuracy: 0.8545 - val_loss: 0.3327 - val_accuracy: 0.8555\n",
      "Epoch 7/18\n",
      "3229/3229 [==============================] - 3s 864us/step - loss: 0.3362 - accuracy: 0.8540 - val_loss: 0.3330 - val_accuracy: 0.8544\n",
      "Epoch 8/18\n",
      "3229/3229 [==============================] - 3s 854us/step - loss: 0.3350 - accuracy: 0.8547 - val_loss: 0.3314 - val_accuracy: 0.8563\n",
      "Epoch 9/18\n",
      "3229/3229 [==============================] - 3s 858us/step - loss: 0.3341 - accuracy: 0.8555 - val_loss: 0.3341 - val_accuracy: 0.8549\n",
      "Epoch 10/18\n",
      "3229/3229 [==============================] - 3s 857us/step - loss: 0.3335 - accuracy: 0.8550 - val_loss: 0.3307 - val_accuracy: 0.8570\n",
      "Epoch 11/18\n",
      "3229/3229 [==============================] - 3s 859us/step - loss: 0.3328 - accuracy: 0.8558 - val_loss: 0.3329 - val_accuracy: 0.8559\n",
      "Epoch 12/18\n",
      "3229/3229 [==============================] - 3s 864us/step - loss: 0.3318 - accuracy: 0.8565 - val_loss: 0.3323 - val_accuracy: 0.8556\n",
      "Epoch 13/18\n",
      "3229/3229 [==============================] - 3s 868us/step - loss: 0.3313 - accuracy: 0.8560 - val_loss: 0.3328 - val_accuracy: 0.8547\n",
      "Epoch 14/18\n",
      "3229/3229 [==============================] - 3s 857us/step - loss: 0.3308 - accuracy: 0.8559 - val_loss: 0.3332 - val_accuracy: 0.8553\n",
      "Epoch 15/18\n",
      "3229/3229 [==============================] - 3s 861us/step - loss: 0.3301 - accuracy: 0.8568 - val_loss: 0.3315 - val_accuracy: 0.8566\n",
      "Epoch 16/18\n",
      "3229/3229 [==============================] - 3s 948us/step - loss: 0.3296 - accuracy: 0.8571 - val_loss: 0.3309 - val_accuracy: 0.8560\n",
      "Epoch 17/18\n",
      "3229/3229 [==============================] - 3s 1ms/step - loss: 0.3292 - accuracy: 0.8567 - val_loss: 0.3310 - val_accuracy: 0.8569\n",
      "Epoch 18/18\n",
      "3229/3229 [==============================] - 3s 1ms/step - loss: 0.3291 - accuracy: 0.8569 - val_loss: 0.3316 - val_accuracy: 0.8550\n",
      "808/808 [==============================] - 1s 609us/step - loss: 0.3316 - accuracy: 0.8550\n"
     ]
    },
    {
     "data": {
      "text/markdown": [
       "<h4><u>Récapitulatif du modèle :</u></h4>\n",
       "Ce modèle avait 2 couches denses :\n",
       "<ul><li>la première avec <b>25 neurones</b> et une fonction d'activation <b>relu</b> ;</li>\n",
       "<li> la seconde avec <b>50 neurones</b> et une fonction d'activation <b>relu</b> ;</li>\n",
       "<li> la couche de sortie comportait <b>2 neurones</b> et une fonction d'activation <b>softmax</b> ;</li>\n",
       "<li> apprentissage sur <b>18 epochs</b> par batch de <b>32</b>.</li></ul>\n"
      ],
      "text/plain": [
       "<IPython.core.display.Markdown object>"
      ]
     },
     "metadata": {},
     "output_type": "display_data"
    },
    {
     "name": "stdout",
     "output_type": "stream",
     "text": [
      "Model: \"model_2\"\n",
      "_________________________________________________________________\n",
      " Layer (type)                Output Shape              Param #   \n",
      "=================================================================\n",
      " Input (InputLayer)          [(None, 22)]              0         \n",
      "                                                                 \n",
      " Dense_1 (Dense)             (None, 25)                575       \n",
      "                                                                 \n",
      " Dense_2 (Dense)             (None, 50)                1300      \n",
      "                                                                 \n",
      " Dense_3 (Dense)             (None, 2)                 102       \n",
      "                                                                 \n",
      "=================================================================\n",
      "Total params: 1,977\n",
      "Trainable params: 1,977\n",
      "Non-trainable params: 0\n",
      "_________________________________________________________________\n"
     ]
    },
    {
     "data": {
      "text/markdown": [
       "<h4><u>Résultats du modèle :</u></h4>\n",
       "<ul><li> Prédiction des <b>jours de pluie</b> avec une précision de <b>72.23 %</b> (<i>recall = <b>53.35 %</b></i>) ;</li>\n",
       "<li> Prédiction des <b>jours sans pluie</b> avec une précision de <b>88.02 %</b> (<i>recall = <b>94.35 %</b></i>) ;</li>\n",
       "<li>La précision globale du modèle est de <b>85.5 %</b>.</li></ul>\n"
      ],
      "text/plain": [
       "<IPython.core.display.Markdown object>"
      ]
     },
     "metadata": {},
     "output_type": "display_data"
    },
    {
     "data": {
      "text/markdown": [
       "L'entrainement sur un nombre plus important d'epochs (ici 18 soit 3 fois plus par rapport au modèle initial) \n",
       "ne semble pas modifier les performances."
      ],
      "text/plain": [
       "<IPython.core.display.Markdown object>"
      ]
     },
     "metadata": {},
     "output_type": "display_data"
    },
    {
     "data": {
      "text/markdown": [
       "<i><h5>Rapport de classification :</h5></i>"
      ],
      "text/plain": [
       "<IPython.core.display.Markdown object>"
      ]
     },
     "metadata": {},
     "output_type": "display_data"
    },
    {
     "name": "stdout",
     "output_type": "stream",
     "text": [
      "              precision    recall  f1-score   support\n",
      "\n",
      "           0       0.88      0.94      0.91     20250\n",
      "           1       0.72      0.53      0.61      5576\n",
      "\n",
      "    accuracy                           0.85     25826\n",
      "   macro avg       0.80      0.74      0.76     25826\n",
      "weighted avg       0.85      0.85      0.85     25826\n",
      "\n"
     ]
    },
    {
     "data": {
      "text/markdown": [
       "<i><h5>Matrice de confusion :</h5></i>"
      ],
      "text/plain": [
       "<IPython.core.display.Markdown object>"
      ]
     },
     "metadata": {},
     "output_type": "display_data"
    },
    {
     "name": "stdout",
     "output_type": "stream",
     "text": [
      "Classe prédite      0     1\n",
      "Classe réelle              \n",
      "0               19106  1144\n",
      "1                2601  2975\n"
     ]
    }
   ],
   "source": [
    "display(Markdown(\"\"\"<h2><center><u>Effet du nombre d'épochs</u></center></h2>\n",
    "<h4><u>Entrainement du modèle :</u></h4>\"\"\"))\n",
    "\n",
    "EPOCHS = 18\n",
    "BATCHS = 32\n",
    "\n",
    "UNITS1 = 25\n",
    "UNITS2 = 50\n",
    "UNITS3 = None\n",
    "UNITS4 = None\n",
    "UNITS5 = None\n",
    "UNITSOUT = 2\n",
    "\n",
    "ACTIV1 = \"relu\"\n",
    "ACTIV2 = \"relu\"\n",
    "ACTIV3 = None\n",
    "ACTIV4 = None\n",
    "ACTIV5 = None\n",
    "\n",
    "inputs = Input(shape = X_train_scaled.shape[1], name = \"Input\")\n",
    "dense1 = Dense(units = UNITS1, activation = ACTIV1, kernel_initializer = \"normal\", name = \"Dense_1\")\n",
    "dense2 = Dense(units = UNITS2, activation = ACTIV2, kernel_initializer = \"normal\", name = \"Dense_2\")\n",
    "dense3 = Dense(units = UNITSOUT, activation = \"softmax\", name = \"Dense_3\")\n",
    "\n",
    "x = dense1(inputs)\n",
    "x = dense2(x)\n",
    "outputs = dense3(x)\n",
    "\n",
    "model = Model(inputs = inputs, outputs = outputs)\n",
    "model.compile(loss = \"sparse_categorical_crossentropy\", optimizer = \"adam\", metrics = [\"accuracy\"])\n",
    "training_history = model.fit(X_train_scaled, y_train, epochs = EPOCHS, batch_size = BATCHS, validation_data=(X_test_scaled,y_test))\n",
    "\n",
    "#calcul du score\n",
    "score = model.evaluate(X_test_scaled, y_test)\n",
    "\n",
    "#prédiction\n",
    "test_pred = model.predict(X_test_scaled)\n",
    "\n",
    "y_test_class = y_test\n",
    "y_pred_class = np.argmax(test_pred, axis = 1)\n",
    "\n",
    "#Résultats\n",
    "precis = classification_report(y_test_class, y_pred_class,output_dict=True)\n",
    "\n",
    "#Output\n",
    "display(Markdown(\"\"\"<h4><u>Récapitulatif du modèle :</u></h4>\n",
    "Ce modèle avait 2 couches denses :\n",
    "<ul><li>la première avec <b>{} neurones</b> et une fonction d'activation <b>{}</b> ;</li>\n",
    "<li> la seconde avec <b>{} neurones</b> et une fonction d'activation <b>{}</b> ;</li>\n",
    "<li> la couche de sortie comportait <b>2 neurones</b> et une fonction d'activation <b>softmax</b> ;</li>\n",
    "<li> apprentissage sur <b>{} epochs</b> par batch de <b>{}</b>.</li></ul>\n",
    "\"\"\".format(UNITS1, ACTIV1, UNITS2, ACTIV2, EPOCHS, BATCHS)))\n",
    "\n",
    "model.summary()\n",
    "\n",
    "display(Markdown(\"\"\"<h4><u>Résultats du modèle :</u></h4>\n",
    "<ul><li> Prédiction des <b>jours de pluie</b> avec une précision de <b>{} %</b> (<i>recall = <b>{} %</b></i>) ;</li>\n",
    "<li> Prédiction des <b>jours sans pluie</b> avec une précision de <b>{} %</b> (<i>recall = <b>{} %</b></i>) ;</li>\n",
    "<li>La précision globale du modèle est de <b>{} %</b>.</li></ul>\n",
    "\"\"\".format(\n",
    "    round(100*precis[\"1\"][\"precision\"],2),\n",
    "    round(100*precis[\"1\"][\"recall\"],2),\n",
    "    round(100*precis[\"0\"][\"precision\"],2),\n",
    "    round(100*precis[\"0\"][\"recall\"],2),\n",
    "    round(100*precis[\"accuracy\"],2)\n",
    ")))\n",
    "display(Markdown(\"\"\"L'entrainement sur un nombre plus important d'epochs (ici 18 soit 3 fois plus par rapport au modèle initial) \n",
    "ne semble pas modifier les performances.\"\"\"))\n",
    "\n",
    "display(Markdown(\"<i><h5>Rapport de classification :</h5></i>\"))\n",
    "print(classification_report(y_test_class, y_pred_class))\n",
    "display(Markdown(\"<i><h5>Matrice de confusion :</h5></i>\"))\n",
    "print(pd.crosstab(y_test_class, y_pred_class, rownames = [\"Classe réelle\"], colnames = [\"Classe prédite\"]))"
   ]
  },
  {
   "cell_type": "code",
   "execution_count": 24,
   "id": "cce68ec2",
   "metadata": {},
   "outputs": [
    {
     "data": {
      "text/markdown": [
       "<h2><center><u>Effet de la taille des batchs</u></center></h2>\n",
       "<h4><u>Entrainement du modèle :</u></h4>"
      ],
      "text/plain": [
       "<IPython.core.display.Markdown object>"
      ]
     },
     "metadata": {},
     "output_type": "display_data"
    },
    {
     "name": "stdout",
     "output_type": "stream",
     "text": [
      "Epoch 1/6\n",
      "323/323 [==============================] - 1s 2ms/step - loss: 0.3850 - accuracy: 0.8315 - val_loss: 0.3430 - val_accuracy: 0.8528\n",
      "Epoch 2/6\n",
      "323/323 [==============================] - 0s 1ms/step - loss: 0.3468 - accuracy: 0.8500 - val_loss: 0.3403 - val_accuracy: 0.8536\n",
      "Epoch 3/6\n",
      "323/323 [==============================] - 0s 1ms/step - loss: 0.3449 - accuracy: 0.8503 - val_loss: 0.3388 - val_accuracy: 0.8534\n",
      "Epoch 4/6\n",
      "323/323 [==============================] - 0s 1ms/step - loss: 0.3439 - accuracy: 0.8507 - val_loss: 0.3400 - val_accuracy: 0.8536\n",
      "Epoch 5/6\n",
      "323/323 [==============================] - 0s 1ms/step - loss: 0.3426 - accuracy: 0.8510 - val_loss: 0.3378 - val_accuracy: 0.8558\n",
      "Epoch 6/6\n",
      "323/323 [==============================] - 0s 1ms/step - loss: 0.3416 - accuracy: 0.8511 - val_loss: 0.3383 - val_accuracy: 0.8542\n",
      "808/808 [==============================] - 1s 610us/step - loss: 0.3383 - accuracy: 0.8542\n"
     ]
    },
    {
     "data": {
      "text/markdown": [
       "<h4><u>Récapitulatif du modèle :</u></h4>\n",
       "Ce modèle avait 2 couches denses :\n",
       "<ul><li>la première avec <b>25 neurones</b> et une fonction d'activation <b>relu</b> ;</li>\n",
       "<li> la seconde avec <b>50 neurones</b> et une fonction d'activation <b>relu</b> ;</li>\n",
       "<li> la couche de sortie comportait <b>2 neurones</b> et une fonction d'activation <b>softmax</b> ;</li>\n",
       "<li> apprentissage sur <b>6 epochs</b> par batch de <b>320</b>.</li></ul>\n"
      ],
      "text/plain": [
       "<IPython.core.display.Markdown object>"
      ]
     },
     "metadata": {},
     "output_type": "display_data"
    },
    {
     "name": "stdout",
     "output_type": "stream",
     "text": [
      "Model: \"model_13\"\n",
      "_________________________________________________________________\n",
      " Layer (type)                Output Shape              Param #   \n",
      "=================================================================\n",
      " Input (InputLayer)          [(None, 22)]              0         \n",
      "                                                                 \n",
      " Dense_1 (Dense)             (None, 25)                575       \n",
      "                                                                 \n",
      " Dense_2 (Dense)             (None, 50)                1300      \n",
      "                                                                 \n",
      " Dense_3 (Dense)             (None, 2)                 102       \n",
      "                                                                 \n",
      "=================================================================\n",
      "Total params: 1,977\n",
      "Trainable params: 1,977\n",
      "Non-trainable params: 0\n",
      "_________________________________________________________________\n"
     ]
    },
    {
     "data": {
      "text/markdown": [
       "<h4><u>Résultats du modèle :</u></h4>\n",
       "<ul><li> Prédiction des <b>jours de pluie</b> avec une précision de <b>72.24 %</b> (<i>recall = <b>52.73 %</b></i>) ;</li>\n",
       "<li> Prédiction des <b>jours sans pluie</b> avec une précision de <b>87.88 %</b> (<i>recall = <b>94.42 %</b></i>) ;</li>\n",
       "<li>La précision globale du modèle est de <b>85.42 %</b>.</li></ul>\n"
      ],
      "text/plain": [
       "<IPython.core.display.Markdown object>"
      ]
     },
     "metadata": {},
     "output_type": "display_data"
    },
    {
     "data": {
      "text/markdown": [
       "L'entrainement sur des batchs de plus grande taille (ici 320 soit 10 fois plus grands par rapport au modèle\n",
       "initial) ne semble pas modifier les performances, en revanche la vitesse d'execution du modèle est considérablement réduite.\n"
      ],
      "text/plain": [
       "<IPython.core.display.Markdown object>"
      ]
     },
     "metadata": {},
     "output_type": "display_data"
    },
    {
     "data": {
      "text/markdown": [
       "<i><h5>Rapport de classification :</h5></i>"
      ],
      "text/plain": [
       "<IPython.core.display.Markdown object>"
      ]
     },
     "metadata": {},
     "output_type": "display_data"
    },
    {
     "name": "stdout",
     "output_type": "stream",
     "text": [
      "              precision    recall  f1-score   support\n",
      "\n",
      "           0       0.88      0.94      0.91     20250\n",
      "           1       0.72      0.53      0.61      5576\n",
      "\n",
      "    accuracy                           0.85     25826\n",
      "   macro avg       0.80      0.74      0.76     25826\n",
      "weighted avg       0.85      0.85      0.85     25826\n",
      "\n"
     ]
    },
    {
     "data": {
      "text/markdown": [
       "<i><h5>Matrice de confusion :</h5></i>"
      ],
      "text/plain": [
       "<IPython.core.display.Markdown object>"
      ]
     },
     "metadata": {},
     "output_type": "display_data"
    },
    {
     "name": "stdout",
     "output_type": "stream",
     "text": [
      "Classe prédite      0     1\n",
      "Classe réelle              \n",
      "0               19120  1130\n",
      "1                2636  2940\n"
     ]
    }
   ],
   "source": [
    "display(Markdown(\"\"\"<h2><center><u>Effet de la taille des batchs</u></center></h2>\n",
    "<h4><u>Entrainement du modèle :</u></h4>\"\"\"))\n",
    "\n",
    "EPOCHS = 6\n",
    "BATCHS = 320\n",
    "\n",
    "UNITS1 = 25\n",
    "UNITS2 = 50\n",
    "UNITS3 = None\n",
    "UNITS4 = None\n",
    "UNITS5 = None\n",
    "UNITSOUT = 2\n",
    "\n",
    "ACTIV1 = \"relu\"\n",
    "ACTIV2 = \"relu\"\n",
    "ACTIV3 = None\n",
    "ACTIV4 = None\n",
    "ACTIV5 = None\n",
    "\n",
    "inputs = Input(shape = X_train_scaled.shape[1], name = \"Input\")\n",
    "dense1 = Dense(units = UNITS1, activation = ACTIV1, kernel_initializer = \"normal\", name = \"Dense_1\")\n",
    "dense2 = Dense(units = UNITS2, activation = ACTIV2, kernel_initializer = \"normal\", name = \"Dense_2\")\n",
    "dense3 = Dense(units = UNITSOUT, activation = \"softmax\", name = \"Dense_3\")\n",
    "\n",
    "x = dense1(inputs)\n",
    "x = dense2(x)\n",
    "outputs = dense3(x)\n",
    "\n",
    "model = Model(inputs = inputs, outputs = outputs)\n",
    "\n",
    "model.compile(loss = \"sparse_categorical_crossentropy\", optimizer = \"adam\", metrics = [\"accuracy\"])\n",
    "\n",
    "training_history = model.fit(X_train_scaled, y_train, epochs = EPOCHS, batch_size = BATCHS, validation_data=(X_test_scaled,y_test))\n",
    "\n",
    "#calcul du score\n",
    "score = model.evaluate(X_test_scaled, y_test)\n",
    "\n",
    "#prédiction\n",
    "test_pred = model.predict(X_test_scaled)\n",
    "\n",
    "y_test_class = y_test\n",
    "y_pred_class = np.argmax(test_pred, axis = 1)\n",
    "\n",
    "#Résultats\n",
    "precis = classification_report(y_test_class, y_pred_class,output_dict=True)\n",
    "\n",
    "#Output\n",
    "display(Markdown(\"\"\"<h4><u>Récapitulatif du modèle :</u></h4>\n",
    "Ce modèle avait 2 couches denses :\n",
    "<ul><li>la première avec <b>{} neurones</b> et une fonction d'activation <b>{}</b> ;</li>\n",
    "<li> la seconde avec <b>{} neurones</b> et une fonction d'activation <b>{}</b> ;</li>\n",
    "<li> la couche de sortie comportait <b>2 neurones</b> et une fonction d'activation <b>softmax</b> ;</li>\n",
    "<li> apprentissage sur <b>{} epochs</b> par batch de <b>{}</b>.</li></ul>\n",
    "\"\"\".format(UNITS1, ACTIV1, UNITS2, ACTIV2, EPOCHS, BATCHS)))\n",
    "\n",
    "model.summary()\n",
    "                 \n",
    "display(Markdown(\"\"\"<h4><u>Résultats du modèle :</u></h4>\n",
    "<ul><li> Prédiction des <b>jours de pluie</b> avec une précision de <b>{} %</b> (<i>recall = <b>{} %</b></i>) ;</li>\n",
    "<li> Prédiction des <b>jours sans pluie</b> avec une précision de <b>{} %</b> (<i>recall = <b>{} %</b></i>) ;</li>\n",
    "<li>La précision globale du modèle est de <b>{} %</b>.</li></ul>\n",
    "\"\"\".format(\n",
    "    round(100*precis[\"1\"][\"precision\"],2),\n",
    "    round(100*precis[\"1\"][\"recall\"],2),\n",
    "    round(100*precis[\"0\"][\"precision\"],2),\n",
    "    round(100*precis[\"0\"][\"recall\"],2),\n",
    "    round(100*precis[\"accuracy\"],2)\n",
    ")))\n",
    "\n",
    "display(Markdown(\"\"\"L'entrainement sur des batchs de plus grande taille (ici 320 soit 10 fois plus grands par rapport au modèle\n",
    "initial) ne semble pas modifier les performances, en revanche la vitesse d'execution du modèle est considérablement réduite.\n",
    "\"\"\"))\n",
    "\n",
    "display(Markdown(\"<i><h5>Rapport de classification :</h5></i>\"))\n",
    "print(classification_report(y_test_class, y_pred_class))\n",
    "display(Markdown(\"<i><h5>Matrice de confusion :</h5></i>\"))\n",
    "print(pd.crosstab(y_test_class, y_pred_class, rownames = [\"Classe réelle\"], colnames = [\"Classe prédite\"]))"
   ]
  },
  {
   "cell_type": "code",
   "execution_count": 25,
   "id": "f7d62ac6",
   "metadata": {},
   "outputs": [
    {
     "data": {
      "text/markdown": [
       "<h2><center><u>Effet des fonctions d'activation</u></center></h2>\n",
       "<h4><u>Entrainement du modèle :</u></h4>"
      ],
      "text/plain": [
       "<IPython.core.display.Markdown object>"
      ]
     },
     "metadata": {},
     "output_type": "display_data"
    },
    {
     "name": "stdout",
     "output_type": "stream",
     "text": [
      "Epoch 1/6\n",
      "3229/3229 [==============================] - 3s 909us/step - loss: 0.3593 - accuracy: 0.8444 - val_loss: 0.3494 - val_accuracy: 0.8514\n",
      "Epoch 2/6\n",
      "3229/3229 [==============================] - 3s 875us/step - loss: 0.3540 - accuracy: 0.8463 - val_loss: 0.3460 - val_accuracy: 0.8508\n",
      "Epoch 3/6\n",
      "3229/3229 [==============================] - 3s 898us/step - loss: 0.3508 - accuracy: 0.8483 - val_loss: 0.3439 - val_accuracy: 0.8501\n",
      "Epoch 4/6\n",
      "3229/3229 [==============================] - 3s 869us/step - loss: 0.3481 - accuracy: 0.8486 - val_loss: 0.3415 - val_accuracy: 0.8537\n",
      "Epoch 5/6\n",
      "3229/3229 [==============================] - 3s 876us/step - loss: 0.3469 - accuracy: 0.8485 - val_loss: 0.3419 - val_accuracy: 0.8532\n",
      "Epoch 6/6\n",
      "3229/3229 [==============================] - 3s 872us/step - loss: 0.3459 - accuracy: 0.8492 - val_loss: 0.3410 - val_accuracy: 0.8533\n",
      "808/808 [==============================] - 0s 589us/step - loss: 0.3410 - accuracy: 0.8533\n"
     ]
    },
    {
     "data": {
      "text/markdown": [
       "<h4><u>Récapitulatif du modèle :</u></h4>\n",
       "Ce modèle avait 2 couches denses :\n",
       "<ul><li>la première avec <b>25 neurones</b> et une fonction d'activation <b>tanh</b> ;</li>\n",
       "<li> la seconde avec <b>50 neurones</b> et une fonction d'activation <b>tanh</b> ;</li>\n",
       "<li> la couche de sortie comportait <b>2 neurones</b> et une fonction d'activation <b>softmax</b> ;</li>\n",
       "<li> apprentissage sur <b>6 epochs</b> par batch de <b>32</b>.</li></ul>\n"
      ],
      "text/plain": [
       "<IPython.core.display.Markdown object>"
      ]
     },
     "metadata": {},
     "output_type": "display_data"
    },
    {
     "name": "stdout",
     "output_type": "stream",
     "text": [
      "Model: \"model_14\"\n",
      "_________________________________________________________________\n",
      " Layer (type)                Output Shape              Param #   \n",
      "=================================================================\n",
      " Input (InputLayer)          [(None, 22)]              0         \n",
      "                                                                 \n",
      " Dense_1 (Dense)             (None, 25)                575       \n",
      "                                                                 \n",
      " Dense_2 (Dense)             (None, 50)                1300      \n",
      "                                                                 \n",
      " Dense_3 (Dense)             (None, 2)                 102       \n",
      "                                                                 \n",
      "=================================================================\n",
      "Total params: 1,977\n",
      "Trainable params: 1,977\n",
      "Non-trainable params: 0\n",
      "_________________________________________________________________\n"
     ]
    },
    {
     "data": {
      "text/markdown": [
       "<h4><u>Résultats du modèle :</u></h4>\n",
       "<ul><li> Prédiction des <b>jours de pluie</b> avec une précision de <b>71.67 %</b> (<i>recall = <b>52.99 %</b></i>) ;</li>\n",
       "<li> Prédiction des <b>jours sans pluie</b> avec une précision de <b>87.92 %</b> (<i>recall = <b>94.23 %</b></i>) ;</li>\n",
       "<li>La précision globale du modèle est de <b>85.33 %</b>.</li></ul>\n"
      ],
      "text/plain": [
       "<IPython.core.display.Markdown object>"
      ]
     },
     "metadata": {},
     "output_type": "display_data"
    },
    {
     "data": {
      "text/markdown": [
       "L'activation des couches denses par la fonction tangente hyperbolique (au lieu de relu dans modèle initial) \n",
       "ne semble pas modifier les performances."
      ],
      "text/plain": [
       "<IPython.core.display.Markdown object>"
      ]
     },
     "metadata": {},
     "output_type": "display_data"
    },
    {
     "data": {
      "text/markdown": [
       "<i><h5>Rapport de classification :</h5></i>"
      ],
      "text/plain": [
       "<IPython.core.display.Markdown object>"
      ]
     },
     "metadata": {},
     "output_type": "display_data"
    },
    {
     "name": "stdout",
     "output_type": "stream",
     "text": [
      "              precision    recall  f1-score   support\n",
      "\n",
      "           0       0.88      0.94      0.91     20250\n",
      "           1       0.72      0.53      0.61      5576\n",
      "\n",
      "    accuracy                           0.85     25826\n",
      "   macro avg       0.80      0.74      0.76     25826\n",
      "weighted avg       0.84      0.85      0.84     25826\n",
      "\n"
     ]
    },
    {
     "data": {
      "text/markdown": [
       "<i><h5>Matrice de confusion :</h5></i>"
      ],
      "text/plain": [
       "<IPython.core.display.Markdown object>"
      ]
     },
     "metadata": {},
     "output_type": "display_data"
    },
    {
     "name": "stdout",
     "output_type": "stream",
     "text": [
      "Classe prédite      0     1\n",
      "Classe réelle              \n",
      "0               19082  1168\n",
      "1                2621  2955\n"
     ]
    }
   ],
   "source": [
    "display(Markdown(\"\"\"<h2><center><u>Effet des fonctions d'activation</u></center></h2>\n",
    "<h4><u>Entrainement du modèle :</u></h4>\"\"\"))\n",
    "\n",
    "EPOCHS = 6\n",
    "BATCHS = 32\n",
    "\n",
    "UNITS1 = 25\n",
    "UNITS2 = 50\n",
    "UNITS3 = None\n",
    "UNITS4 = None\n",
    "UNITS5 = None\n",
    "UNITSOUT = 2\n",
    "\n",
    "ACTIV1 = \"tanh\"\n",
    "ACTIV2 = \"tanh\"\n",
    "ACTIV3 = None\n",
    "ACTIV4 = None\n",
    "ACTIV5 = None\n",
    "\n",
    "\n",
    "inputs = Input(shape = X_train_scaled.shape[1], name = \"Input\")\n",
    "dense1 = Dense(units = UNITS1, activation = ACTIV1, kernel_initializer = \"normal\", name = \"Dense_1\")\n",
    "dense2 = Dense(units = UNITS2, activation = ACTIV2, kernel_initializer = \"normal\", name = \"Dense_2\")\n",
    "dense3 = Dense(units = UNITSOUT, activation = \"softmax\", name = \"Dense_3\")\n",
    "\n",
    "x = dense1(inputs)\n",
    "x = dense2(x)\n",
    "outputs = dense3(x)\n",
    "\n",
    "model = Model(inputs = inputs, outputs = outputs)\n",
    "model.compile(loss = \"sparse_categorical_crossentropy\", optimizer = \"adam\", metrics = [\"accuracy\"])\n",
    "training_history = model.fit(X_train_scaled, y_train, epochs = EPOCHS, batch_size = BATCHS, validation_data=(X_test_scaled,y_test))\n",
    "\n",
    "#calcul du score\n",
    "score = model.evaluate(X_test_scaled, y_test)\n",
    "\n",
    "#prédiction\n",
    "test_pred = model.predict(X_test_scaled)\n",
    "\n",
    "y_test_class = y_test\n",
    "y_pred_class = np.argmax(test_pred, axis = 1)\n",
    "\n",
    "#Résultats\n",
    "precis = classification_report(y_test_class, y_pred_class,output_dict=True)\n",
    "\n",
    "#Output\n",
    "display(Markdown(\"\"\"<h4><u>Récapitulatif du modèle :</u></h4>\n",
    "Ce modèle avait 2 couches denses :\n",
    "<ul><li>la première avec <b>{} neurones</b> et une fonction d'activation <b>{}</b> ;</li>\n",
    "<li> la seconde avec <b>{} neurones</b> et une fonction d'activation <b>{}</b> ;</li>\n",
    "<li> la couche de sortie comportait <b>2 neurones</b> et une fonction d'activation <b>softmax</b> ;</li>\n",
    "<li> apprentissage sur <b>{} epochs</b> par batch de <b>{}</b>.</li></ul>\n",
    "\"\"\".format(UNITS1, ACTIV1, UNITS2, ACTIV2, EPOCHS, BATCHS)))\n",
    "\n",
    "model.summary()\n",
    "\n",
    "display(Markdown(\"\"\"<h4><u>Résultats du modèle :</u></h4>\n",
    "<ul><li> Prédiction des <b>jours de pluie</b> avec une précision de <b>{} %</b> (<i>recall = <b>{} %</b></i>) ;</li>\n",
    "<li> Prédiction des <b>jours sans pluie</b> avec une précision de <b>{} %</b> (<i>recall = <b>{} %</b></i>) ;</li>\n",
    "<li>La précision globale du modèle est de <b>{} %</b>.</li></ul>\n",
    "\"\"\".format(\n",
    "    round(100*precis[\"1\"][\"precision\"],2),\n",
    "    round(100*precis[\"1\"][\"recall\"],2),\n",
    "    round(100*precis[\"0\"][\"precision\"],2),\n",
    "    round(100*precis[\"0\"][\"recall\"],2),\n",
    "    round(100*precis[\"accuracy\"],2)\n",
    ")))\n",
    "\n",
    "display(Markdown(\"\"\"L'activation des couches denses par la fonction tangente hyperbolique (au lieu de relu dans modèle initial) \n",
    "ne semble pas modifier les performances.\"\"\"))\n",
    "\n",
    "display(Markdown(\"<i><h5>Rapport de classification :</h5></i>\"))\n",
    "print(classification_report(y_test_class, y_pred_class))\n",
    "display(Markdown(\"<i><h5>Matrice de confusion :</h5></i>\"))\n",
    "print(pd.crosstab(y_test_class, y_pred_class, rownames = [\"Classe réelle\"], colnames = [\"Classe prédite\"]))"
   ]
  },
  {
   "cell_type": "code",
   "execution_count": 26,
   "id": "2ad4f998",
   "metadata": {},
   "outputs": [
    {
     "data": {
      "text/markdown": [
       "<h2><center><u>Effet du nombre de couches de neurones</u></center></h2>\n",
       "<h4><u>Entrainement du modèle :</u></h4>"
      ],
      "text/plain": [
       "<IPython.core.display.Markdown object>"
      ]
     },
     "metadata": {},
     "output_type": "display_data"
    },
    {
     "name": "stdout",
     "output_type": "stream",
     "text": [
      "Epoch 1/6\n",
      "3229/3229 [==============================] - 3s 979us/step - loss: 0.3541 - accuracy: 0.8467 - val_loss: 0.3398 - val_accuracy: 0.8536\n",
      "Epoch 2/6\n",
      "3229/3229 [==============================] - 3s 916us/step - loss: 0.3449 - accuracy: 0.8508 - val_loss: 0.3372 - val_accuracy: 0.8542\n",
      "Epoch 3/6\n",
      "3229/3229 [==============================] - 3s 918us/step - loss: 0.3425 - accuracy: 0.8513 - val_loss: 0.3397 - val_accuracy: 0.8548\n",
      "Epoch 4/6\n",
      "3229/3229 [==============================] - 3s 921us/step - loss: 0.3406 - accuracy: 0.8522 - val_loss: 0.3342 - val_accuracy: 0.8553\n",
      "Epoch 5/6\n",
      "3229/3229 [==============================] - 3s 918us/step - loss: 0.3392 - accuracy: 0.8527 - val_loss: 0.3335 - val_accuracy: 0.8552\n",
      "Epoch 6/6\n",
      "3229/3229 [==============================] - 3s 939us/step - loss: 0.3376 - accuracy: 0.8534 - val_loss: 0.3333 - val_accuracy: 0.8541\n",
      "808/808 [==============================] - 1s 749us/step - loss: 0.3333 - accuracy: 0.8541\n"
     ]
    },
    {
     "data": {
      "text/markdown": [
       "<h4><u>Récapitulatif du modèle :</u></h4>\n",
       "Ce modèle avait 3 couches denses :\n",
       "<ul><li>la première avec <b>25 neurones</b> et une fonction d'activation <b>relu</b> ;</li>\n",
       "<li> la seconde avec <b>50 neurones</b> et une fonction d'activation <b>relu</b> ;</li>\n",
       "<li> la troisième avec <b>50 neurones</b> et une fonction d'activation <b>relu</b> ;</li>\n",
       "<li> la couche de sortie comportait <b>2 neurones</b> et une fonction d'activation <b>softmax</b> ;</li>\n",
       "<li> apprentissage sur <b>6 epochs</b> par batch de <b>32</b>.</li></ul>\n"
      ],
      "text/plain": [
       "<IPython.core.display.Markdown object>"
      ]
     },
     "metadata": {},
     "output_type": "display_data"
    },
    {
     "name": "stdout",
     "output_type": "stream",
     "text": [
      "Model: \"model_15\"\n",
      "_________________________________________________________________\n",
      " Layer (type)                Output Shape              Param #   \n",
      "=================================================================\n",
      " Input (InputLayer)          [(None, 22)]              0         \n",
      "                                                                 \n",
      " Dense_1 (Dense)             (None, 25)                575       \n",
      "                                                                 \n",
      " Dense_2 (Dense)             (None, 50)                1300      \n",
      "                                                                 \n",
      " Dense_3 (Dense)             (None, 50)                2550      \n",
      "                                                                 \n",
      " Dense_4 (Dense)             (None, 2)                 102       \n",
      "                                                                 \n",
      "=================================================================\n",
      "Total params: 4,527\n",
      "Trainable params: 4,527\n",
      "Non-trainable params: 0\n",
      "_________________________________________________________________\n"
     ]
    },
    {
     "data": {
      "text/markdown": [
       "<h4><u>Résultats du modèle :</u></h4>\n",
       "<ul><li> Prédiction des <b>jours de pluie</b> avec une précision de <b>74.11 %</b> (<i>recall = <b>49.86 %</b></i>) ;</li>\n",
       "<li> Prédiction des <b>jours sans pluie</b> avec une précision de <b>87.33 %</b> (<i>recall = <b>95.2 %</b></i>) ;</li>\n",
       "<li>La précision globale du modèle est de <b>85.41 %</b>.</li></ul>\n"
      ],
      "text/plain": [
       "<IPython.core.display.Markdown object>"
      ]
     },
     "metadata": {},
     "output_type": "display_data"
    },
    {
     "data": {
      "text/markdown": [
       "L'ajout d'une troisième couche de neurones ne semble pas modifier les performances.\n"
      ],
      "text/plain": [
       "<IPython.core.display.Markdown object>"
      ]
     },
     "metadata": {},
     "output_type": "display_data"
    },
    {
     "data": {
      "text/markdown": [
       "<i><h5>Rapport de classification :</h5></i>"
      ],
      "text/plain": [
       "<IPython.core.display.Markdown object>"
      ]
     },
     "metadata": {},
     "output_type": "display_data"
    },
    {
     "name": "stdout",
     "output_type": "stream",
     "text": [
      "              precision    recall  f1-score   support\n",
      "\n",
      "           0       0.87      0.95      0.91     20250\n",
      "           1       0.74      0.50      0.60      5576\n",
      "\n",
      "    accuracy                           0.85     25826\n",
      "   macro avg       0.81      0.73      0.75     25826\n",
      "weighted avg       0.84      0.85      0.84     25826\n",
      "\n"
     ]
    },
    {
     "data": {
      "text/markdown": [
       "<i><h5>Matrice de confusion :</h5></i>"
      ],
      "text/plain": [
       "<IPython.core.display.Markdown object>"
      ]
     },
     "metadata": {},
     "output_type": "display_data"
    },
    {
     "name": "stdout",
     "output_type": "stream",
     "text": [
      "Classe prédite      0     1\n",
      "Classe réelle              \n",
      "0               19279   971\n",
      "1                2796  2780\n"
     ]
    }
   ],
   "source": [
    "display(Markdown(\"\"\"<h2><center><u>Effet du nombre de couches de neurones</u></center></h2>\n",
    "<h4><u>Entrainement du modèle :</u></h4>\"\"\"))\n",
    "\n",
    "EPOCHS = 6\n",
    "BATCHS = 32\n",
    "\n",
    "UNITS1 = 25\n",
    "UNITS2 = 50\n",
    "UNITS3 = 50\n",
    "UNITS4 = None\n",
    "UNITS5 = None\n",
    "UNITSOUT = 2\n",
    "\n",
    "ACTIV1 = \"relu\"\n",
    "ACTIV2 = \"relu\"\n",
    "ACTIV3 = \"relu\"\n",
    "ACTIV4 = None\n",
    "ACTIV5 = None\n",
    "\n",
    "\n",
    "inputs = Input(shape = X_train_scaled.shape[1], name = \"Input\")\n",
    "dense1 = Dense(units = UNITS1, activation = ACTIV1, kernel_initializer = \"normal\", name = \"Dense_1\")\n",
    "dense2 = Dense(units = UNITS2, activation = ACTIV2, kernel_initializer = \"normal\", name = \"Dense_2\")\n",
    "dense3 = Dense(units = UNITS3, activation = ACTIV3, kernel_initializer = \"normal\", name = \"Dense_3\")\n",
    "dense4 = Dense(units = UNITSOUT, activation = \"softmax\", name = \"Dense_4\")\n",
    "\n",
    "x = dense1(inputs)\n",
    "x = dense2(x)\n",
    "x = dense3(x)\n",
    "outputs = dense4(x)\n",
    "\n",
    "model = Model(inputs = inputs, outputs = outputs)\n",
    "model.compile(loss = \"sparse_categorical_crossentropy\", optimizer = \"adam\", metrics = [\"accuracy\"])\n",
    "training_history = model.fit(X_train_scaled, y_train, epochs = EPOCHS, batch_size = BATCHS, validation_data=(X_test_scaled,y_test))\n",
    "\n",
    "#calcul du score\n",
    "score = model.evaluate(X_test_scaled, y_test)\n",
    "\n",
    "#prédiction\n",
    "test_pred = model.predict(X_test_scaled)\n",
    "\n",
    "y_test_class = y_test\n",
    "y_pred_class = np.argmax(test_pred, axis = 1)\n",
    "\n",
    "#Résultats\n",
    "precis = classification_report(y_test_class, y_pred_class,output_dict=True)\n",
    "\n",
    "#Output\n",
    "display(Markdown(\"\"\"<h4><u>Récapitulatif du modèle :</u></h4>\n",
    "Ce modèle avait 3 couches denses :\n",
    "<ul><li>la première avec <b>{} neurones</b> et une fonction d'activation <b>{}</b> ;</li>\n",
    "<li> la seconde avec <b>{} neurones</b> et une fonction d'activation <b>{}</b> ;</li>\n",
    "<li> la troisième avec <b>{} neurones</b> et une fonction d'activation <b>{}</b> ;</li>\n",
    "<li> la couche de sortie comportait <b>2 neurones</b> et une fonction d'activation <b>softmax</b> ;</li>\n",
    "<li> apprentissage sur <b>{} epochs</b> par batch de <b>{}</b>.</li></ul>\n",
    "\"\"\".format(UNITS1, ACTIV1, UNITS2, ACTIV2, UNITS3, ACTIV3, EPOCHS, BATCHS)))\n",
    "\n",
    "model.summary()\n",
    "\n",
    "display(Markdown(\"\"\"<h4><u>Résultats du modèle :</u></h4>\n",
    "<ul><li> Prédiction des <b>jours de pluie</b> avec une précision de <b>{} %</b> (<i>recall = <b>{} %</b></i>) ;</li>\n",
    "<li> Prédiction des <b>jours sans pluie</b> avec une précision de <b>{} %</b> (<i>recall = <b>{} %</b></i>) ;</li>\n",
    "<li>La précision globale du modèle est de <b>{} %</b>.</li></ul>\n",
    "\"\"\".format(\n",
    "    round(100*precis[\"1\"][\"precision\"],2),\n",
    "    round(100*precis[\"1\"][\"recall\"],2),\n",
    "    round(100*precis[\"0\"][\"precision\"],2),\n",
    "    round(100*precis[\"0\"][\"recall\"],2),\n",
    "    round(100*precis[\"accuracy\"],2)\n",
    ")))\n",
    "\n",
    "display(Markdown(\"\"\"L'ajout d'une troisième couche de neurones ne semble pas modifier les performances.\n",
    "\"\"\"))\n",
    "\n",
    "display(Markdown(\"<i><h5>Rapport de classification :</h5></i>\"))\n",
    "print(classification_report(y_test_class, y_pred_class))\n",
    "display(Markdown(\"<i><h5>Matrice de confusion :</h5></i>\"))\n",
    "print(pd.crosstab(y_test_class, y_pred_class, rownames = [\"Classe réelle\"], colnames = [\"Classe prédite\"]))"
   ]
  }
 ],
 "metadata": {
  "kernelspec": {
   "display_name": "Python 3 (ipykernel)",
   "language": "python",
   "name": "python3"
  },
  "language_info": {
   "codemirror_mode": {
    "name": "ipython",
    "version": 3
   },
   "file_extension": ".py",
   "mimetype": "text/x-python",
   "name": "python",
   "nbconvert_exporter": "python",
   "pygments_lexer": "ipython3",
   "version": "3.9.12"
  }
 },
 "nbformat": 4,
 "nbformat_minor": 5
}
